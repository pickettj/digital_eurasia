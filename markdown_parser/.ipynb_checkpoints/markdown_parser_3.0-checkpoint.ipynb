{
 "cells": [
  {
   "cell_type": "markdown",
   "metadata": {},
   "source": [
    "# Custom Markdown Parser\n",
    "\n",
    "Inputs markdown, outputs XML based on a custom schema using regex."
   ]
  },
  {
   "cell_type": "markdown",
   "metadata": {},
   "source": [
    "Next steps:\n",
    "- Code batch processing (i.e. open all files in one directory, output to another).\n",
    "- Automate transfer of process files to new directory to simplify workflow."
   ]
  },
  {
   "cell_type": "code",
   "execution_count": 1,
   "metadata": {},
   "outputs": [],
   "source": [
    "# Notes on Version 2 (From General Hanley):\n",
    "\n",
    "# Advocates transcending the \"line-by-line approach\":\n",
    "# If you give re.sub the flags=re.MULTILINE option, then ^ and $ will match the\n",
    "# beginning and end of lines, rather than the whole string. That way you\n",
    "# can do it for the whole file at once. This should in principle be faster too."
   ]
  },
  {
   "cell_type": "code",
   "execution_count": 2,
   "metadata": {},
   "outputs": [],
   "source": [
    "import re, os, os.path, shutil\n",
    "\n",
    "# custom functions:\n",
    "import parser_functions as pf"
   ]
  },
  {
   "cell_type": "markdown",
   "metadata": {},
   "source": [
    "### File Paths"
   ]
  },
  {
   "cell_type": "markdown",
   "metadata": {},
   "source": [
    "Nice [[explanation of using the os library]](https://automatetheboringstuff.com/chapter8/)."
   ]
  },
  {
   "cell_type": "code",
   "execution_count": 3,
   "metadata": {},
   "outputs": [
    {
     "name": "stdout",
     "output_type": "stream",
     "text": [
      "Files currently in input folder  /Users/kribblesworth/Box/Notes/Primary_Sources :\n"
     ]
    },
    {
     "data": {
      "text/plain": [
       "['archive_docs_now_at_xml_stage_do_not_use',\n",
       " 'document_conversion_backlog',\n",
       " 'ser902.txt']"
      ]
     },
     "execution_count": 3,
     "metadata": {},
     "output_type": "execute_result"
    }
   ],
   "source": [
    "# Input Folder\n",
    "hdir = os.path.expanduser('~')\n",
    "md_rel_path = \"/Box/Notes/Primary_Sources/transcription_markdown_drafting_stage1\"\n",
    "md_path = hdir + md_rel_path\n",
    "\n",
    "# Destination Folder\n",
    "xml_rel_path = r\"/Box/Notes/Primary_sources/xml_notes_stage2/parser_depository\"\n",
    "xml_path = hdir + xml_rel_path\n",
    "\n",
    "# Folder to archive old Markdown files\n",
    "archive_rel_path = \"/Box/Notes/Primary_Sources/transcription_markdown_drafting_stage1/archive_docs_now_at_xml_stage_do_not_use\"\n",
    "archive_path = hdir + archive_rel_path\n",
    "\n",
    "print (\"Files currently in input folder \", os.path.dirname(md_path), \":\")\n",
    "os.listdir(md_path)\n"
   ]
  },
  {
   "cell_type": "code",
   "execution_count": 4,
   "metadata": {},
   "outputs": [
    {
     "name": "stdout",
     "output_type": "stream",
     "text": [
      "Files currently in destination folder  /Users/kribblesworth/Box/Notes/Primary_sources/xml_notes_stage2 :\n"
     ]
    },
    {
     "data": {
      "text/plain": [
       "['ser179.xml',\n",
       " 'ser183.xml',\n",
       " 'ser187.xml',\n",
       " 'ser212.xml',\n",
       " 'ser215.xml',\n",
       " 'ser237.xml',\n",
       " 'ser537.xml',\n",
       " 'ser560.xml',\n",
       " 'ser561.xml',\n",
       " 'ser596.xml',\n",
       " 'ser626.xml',\n",
       " 'ser706.xml',\n",
       " 'ser72.xml',\n",
       " 'ser808.xml',\n",
       " 'ser809.xml',\n",
       " 'ser811.xml',\n",
       " 'ser812.xml',\n",
       " 'ser813.xml',\n",
       " 'ser814.xml',\n",
       " 'ser815.xml',\n",
       " 'ser816.xml',\n",
       " 'ser817.xml',\n",
       " 'ser818.xml',\n",
       " 'ser842.xml',\n",
       " 'ser843.xml',\n",
       " 'ser857.xml',\n",
       " 'ser876.xml',\n",
       " 'ser877.xml',\n",
       " 'ser898.xml',\n",
       " 'ser91.xml']"
      ]
     },
     "execution_count": 4,
     "metadata": {},
     "output_type": "execute_result"
    }
   ],
   "source": [
    "# Minor: note that os.path.dirname lists the name of the parent folder, not the targeted one\n",
    "print (\"Files currently in destination folder \", os.path.dirname(xml_path), \":\")\n",
    "\n",
    "os.listdir(xml_path)"
   ]
  },
  {
   "cell_type": "markdown",
   "metadata": {},
   "source": [
    "## The Parser"
   ]
  },
  {
   "cell_type": "code",
   "execution_count": 8,
   "metadata": {},
   "outputs": [
    {
     "name": "stdout",
     "output_type": "stream",
     "text": [
      "<?xml-model href=\"../../../../../Projects/xml_development_eurasia/schemas/persian_documents_schema_basic.rnc\" type=\"application/relax-ng-compact-syntax\"?>\n",
      "    <document serial = \"902\">\n",
      "    \t\n",
      "\t<div>\n",
      "\t^ Invocatio\n",
      "\t\t<lb/>باسم سلحانُ\n",
      "\t\n",
      "\t---\n",
      "\t\t<lb/>متصدیان مهمات حال و استقبال پرگنۀ <flag>دهار</flag> سرکار <flag>مند</flag> و صوبه مالوه بدانند که\n",
      "\t\t<lb/>درینولا <flag>حقیقت</flag> دولتخواهی و ابادنگاری و نیکوخدمتی <flag>پرسویم</flag> چودهری آنجا بعرض رسد که\n",
      "\t\t<lb/>در انجام کارهای سرکار خودرا معاف نمیدارد و مطابق سنه نوازش بآنمرحوم\n",
      "\t\t<lb/>موضع <flag>اهو</flag> و غیره ده قریه پانصد و پنجاه بیگه زمین و اشجار <flag>انبه</flag> و غیره بموضع مفصله ضمن\n",
      "\t\t<lb/>بر طبق نشان مرادبخش و جاگیرداران <flag>شیر</flag> در <flag>قصبه</flag> انعام و <flag>مالکار</flag> او\n",
      "\t\t<lb/>معه فرزندان مقرر است ما نیز <flag>مولضعات</flag> مذکور و اشجار مزبور و غیره را\n",
      "\t\t<lb/>در <flag>قصبه</flag> انعام او و فرزندانش مرحمت فرمودیم باید که قصبه مرقوم را\n",
      "\t\t<lb/>به <flag>نهج</flag> قدیم باو وا گذارند که محصول انرا سال بسال و فصل بفصل\n",
      "\t\t<lb/>منصرف بوده در دولتخواهی و نیکو خدمتی سعی موفوره بظهور رساند\n",
      "\t\t<lb/><flag>امدرهال</flag> تاکید دانسته <flag>حصب الفرموده عملانه</flag> تحریر فی <flag>؟؟</flag>\n",
      "    </document>\n"
     ]
    }
   ],
   "source": [
    "# Making sure in correct directory:\n",
    "os.chdir(md_path)\n",
    "\n",
    "# Test if it is all functioning properly:\n",
    "print (pf.parse_md(os.listdir(md_path)[2]))\n"
   ]
  },
  {
   "cell_type": "markdown",
   "metadata": {},
   "source": [
    "### Run parser on every file in the input directory, copy to output directory"
   ]
  },
  {
   "cell_type": "code",
   "execution_count": 9,
   "metadata": {},
   "outputs": [],
   "source": [
    "for filename in os.listdir(md_path):\n",
    "    if filename.endswith(\".txt\") or filename.endswith(\".md\"):\n",
    "        # Make sure in input directory\n",
    "        os.chdir(md_path)\n",
    "\n",
    "        # Export filename\n",
    "        output_file = \"ser\" + pf.serial_no(filename) + \".xml\"\n",
    "        \n",
    "        # MD parsed into XML text for output\n",
    "        output_text = pf.parse_md(filename)\n",
    "        \n",
    "        # Send file\n",
    "        with open(xml_path + \"/\" + output_file, 'w+') as fout:\n",
    "            fout.write(output_text)\n",
    "            \n",
    "        # Archived filename\n",
    "        archive_file = \"archived_no\" + pf.serial_no(filename) + \".txt\"\n",
    "                       \n",
    "        # Move active file to the archive folder\n",
    "        shutil.move(md_path + \"/\" + filename, archive_path + \"/\" + archive_file)\n",
    "       "
   ]
  },
  {
   "cell_type": "code",
   "execution_count": null,
   "metadata": {},
   "outputs": [],
   "source": []
  }
 ],
 "metadata": {
  "kernelspec": {
   "display_name": "Python 3",
   "language": "python",
   "name": "python3"
  },
  "language_info": {
   "codemirror_mode": {
    "name": "ipython",
    "version": 3
   },
   "file_extension": ".py",
   "mimetype": "text/x-python",
   "name": "python",
   "nbconvert_exporter": "python",
   "pygments_lexer": "ipython3",
   "version": "3.7.4"
  }
 },
 "nbformat": 4,
 "nbformat_minor": 4
}
