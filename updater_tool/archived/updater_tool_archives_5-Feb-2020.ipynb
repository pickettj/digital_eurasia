{
 "cells": [
  {
   "cell_type": "markdown",
   "metadata": {},
   "source": [
    "# XML Updater Tool\n",
    "\n",
    "Using a relational data to automatically update XML code, and vice versa.\n",
    "\n",
    "[Github development notes](https://github.com/pickettj/xml_development_eurasia/issues/10#issuecomment-576038585)"
   ]
  },
  {
   "cell_type": "code",
   "execution_count": 2,
   "metadata": {},
   "outputs": [],
   "source": [
    "import pandas as pd\n",
    "from bs4 import BeautifulSoup\n",
    "import os, pickle"
   ]
  },
  {
   "cell_type": "code",
   "execution_count": 3,
   "metadata": {},
   "outputs": [],
   "source": [
    "hdir = os.path.expanduser('~')\n",
    "pickle_path = hdir + \"/Box/Notes/Digital_Humanities/Corpora/pickled_tokenized_cleaned_corpora\"\n",
    "data_path = ext_corp_path = hdir + \"/Box/Notes/Digital_Humanities/Datasets/exported_database_data/basic_corresondences\""
   ]
  },
  {
   "cell_type": "markdown",
   "metadata": {},
   "source": [
    "### Read in CSV Database Files"
   ]
  },
  {
   "cell_type": "code",
   "execution_count": 4,
   "metadata": {},
   "outputs": [],
   "source": [
    "db_locs = pd.read_csv(data_path + '/location_data.csv', names=['id', 'name'])"
   ]
  },
  {
   "cell_type": "markdown",
   "metadata": {},
   "source": [
    "Split on `\\x0b` for IDs with more than one value separated by a line break."
   ]
  },
  {
   "cell_type": "code",
   "execution_count": 5,
   "metadata": {
    "scrolled": true
   },
   "outputs": [
    {
     "data": {
      "text/plain": [
       "['سمرقند', 'ثمرقند']"
      ]
     },
     "execution_count": 5,
     "metadata": {},
     "output_type": "execute_result"
    }
   ],
   "source": [
    "db_locs[db_locs['id']==5].iloc[0]['name'].split('\\x0b')"
   ]
  },
  {
   "cell_type": "markdown",
   "metadata": {},
   "source": [
    "Create DataFrame with doubled entries for IDs with multiple values."
   ]
  },
  {
   "cell_type": "code",
   "execution_count": 6,
   "metadata": {},
   "outputs": [],
   "source": [
    "db_locs = pd.DataFrame(sum([[(x.id, z) for z in x.name.split('\\x0b')] for x in db_locs.fillna('').itertuples()], []), columns=['id', 'name'])"
   ]
  },
  {
   "cell_type": "code",
   "execution_count": 7,
   "metadata": {
    "scrolled": true
   },
   "outputs": [
    {
     "data": {
      "text/html": [
       "<div>\n",
       "<style scoped>\n",
       "    .dataframe tbody tr th:only-of-type {\n",
       "        vertical-align: middle;\n",
       "    }\n",
       "\n",
       "    .dataframe tbody tr th {\n",
       "        vertical-align: top;\n",
       "    }\n",
       "\n",
       "    .dataframe thead th {\n",
       "        text-align: right;\n",
       "    }\n",
       "</style>\n",
       "<table border=\"1\" class=\"dataframe\">\n",
       "  <thead>\n",
       "    <tr style=\"text-align: right;\">\n",
       "      <th></th>\n",
       "      <th>id</th>\n",
       "      <th>name</th>\n",
       "    </tr>\n",
       "  </thead>\n",
       "  <tbody>\n",
       "    <tr>\n",
       "      <td>0</td>\n",
       "      <td>1</td>\n",
       "      <td>حصار</td>\n",
       "    </tr>\n",
       "    <tr>\n",
       "      <td>1</td>\n",
       "      <td>2</td>\n",
       "      <td>کندرود</td>\n",
       "    </tr>\n",
       "    <tr>\n",
       "      <td>2</td>\n",
       "      <td>3</td>\n",
       "      <td>بخارا</td>\n",
       "    </tr>\n",
       "    <tr>\n",
       "      <td>3</td>\n",
       "      <td>4</td>\n",
       "      <td>ولایت بلخ</td>\n",
       "    </tr>\n",
       "    <tr>\n",
       "      <td>4</td>\n",
       "      <td>5</td>\n",
       "      <td>سمرقند</td>\n",
       "    </tr>\n",
       "    <tr>\n",
       "      <td>5</td>\n",
       "      <td>5</td>\n",
       "      <td>ثمرقند</td>\n",
       "    </tr>\n",
       "    <tr>\n",
       "      <td>6</td>\n",
       "      <td>6</td>\n",
       "      <td>خوقند</td>\n",
       "    </tr>\n",
       "    <tr>\n",
       "      <td>7</td>\n",
       "      <td>7</td>\n",
       "      <td>کابل</td>\n",
       "    </tr>\n",
       "    <tr>\n",
       "      <td>8</td>\n",
       "      <td>8</td>\n",
       "      <td>قزان</td>\n",
       "    </tr>\n",
       "    <tr>\n",
       "      <td>9</td>\n",
       "      <td>9</td>\n",
       "      <td>تاشکند</td>\n",
       "    </tr>\n",
       "  </tbody>\n",
       "</table>\n",
       "</div>"
      ],
      "text/plain": [
       "   id       name\n",
       "0   1       حصار\n",
       "1   2     کندرود\n",
       "2   3      بخارا\n",
       "3   4  ولایت بلخ\n",
       "4   5     سمرقند\n",
       "5   5     ثمرقند\n",
       "6   6      خوقند\n",
       "7   7       کابل\n",
       "8   8       قزان\n",
       "9   9     تاشکند"
      ]
     },
     "execution_count": 7,
     "metadata": {},
     "output_type": "execute_result"
    }
   ],
   "source": [
    "db_locs.head(10)"
   ]
  },
  {
   "cell_type": "code",
   "execution_count": 8,
   "metadata": {},
   "outputs": [
    {
     "data": {
      "text/plain": [
       "id      1460\n",
       "name    1460\n",
       "dtype: int64"
      ]
     },
     "execution_count": 8,
     "metadata": {},
     "output_type": "execute_result"
    }
   ],
   "source": [
    "db_locs.count()"
   ]
  },
  {
   "cell_type": "markdown",
   "metadata": {},
   "source": [
    "Add columns to differentiate which names are unique and which IDs are unique."
   ]
  },
  {
   "cell_type": "code",
   "execution_count": 24,
   "metadata": {},
   "outputs": [
    {
     "data": {
      "text/plain": [
       "394"
      ]
     },
     "execution_count": 24,
     "metadata": {},
     "output_type": "execute_result"
    }
   ],
   "source": [
    "db_locs['name_count'] = db_locs.groupby(['name'])['id'].transform('count')\n",
    "\n",
    "value = db_locs.loc[db_locs['name'] == \"ده نو\"][\"id\"]\n",
    "int(value)"
   ]
  },
  {
   "cell_type": "code",
   "execution_count": 10,
   "metadata": {
    "scrolled": true
   },
   "outputs": [
    {
     "data": {
      "text/html": [
       "<div>\n",
       "<style scoped>\n",
       "    .dataframe tbody tr th:only-of-type {\n",
       "        vertical-align: middle;\n",
       "    }\n",
       "\n",
       "    .dataframe tbody tr th {\n",
       "        vertical-align: top;\n",
       "    }\n",
       "\n",
       "    .dataframe thead th {\n",
       "        text-align: right;\n",
       "    }\n",
       "</style>\n",
       "<table border=\"1\" class=\"dataframe\">\n",
       "  <thead>\n",
       "    <tr style=\"text-align: right;\">\n",
       "      <th></th>\n",
       "      <th>id</th>\n",
       "      <th>name</th>\n",
       "      <th>name_count</th>\n",
       "      <th>id_count</th>\n",
       "    </tr>\n",
       "  </thead>\n",
       "  <tbody>\n",
       "    <tr>\n",
       "      <td>840</td>\n",
       "      <td>394</td>\n",
       "      <td>ده نو</td>\n",
       "      <td>1</td>\n",
       "      <td>1</td>\n",
       "    </tr>\n",
       "  </tbody>\n",
       "</table>\n",
       "</div>"
      ],
      "text/plain": [
       "      id   name  name_count  id_count\n",
       "840  394  ده نو           1         1"
      ]
     },
     "execution_count": 10,
     "metadata": {},
     "output_type": "execute_result"
    }
   ],
   "source": [
    "db_locs['id_count'] = db_locs.groupby(['id'])['name'].transform('count')\n",
    "\n",
    "db_locs.loc[db_locs['name'] == \"ده نو\"]"
   ]
  },
  {
   "cell_type": "code",
   "execution_count": 11,
   "metadata": {},
   "outputs": [
    {
     "data": {
      "text/plain": [
       "True"
      ]
     },
     "execution_count": 11,
     "metadata": {},
     "output_type": "execute_result"
    }
   ],
   "source": [
    "db_locs['name'].str.contains(\"حصار\").any()"
   ]
  },
  {
   "cell_type": "markdown",
   "metadata": {},
   "source": [
    "## XML"
   ]
  },
  {
   "cell_type": "markdown",
   "metadata": {},
   "source": [
    "Unpickle"
   ]
  },
  {
   "cell_type": "code",
   "execution_count": 12,
   "metadata": {},
   "outputs": [],
   "source": [
    "with open(pickle_path + \"/xml_corpora.pkl\", \"rb\") as f:\n",
    "    ind_man_docs, hyd_man_docs, trans_man_docs,\\\n",
    "                combo_xml_final, combo_xml_all = pickle.load(f)"
   ]
  },
  {
   "cell_type": "code",
   "execution_count": 13,
   "metadata": {
    "scrolled": true
   },
   "outputs": [
    {
     "data": {
      "text/plain": [
       "dict_keys(['ser818', 'ser179', 'ser183', 'ser187', 'ser212', 'ser215', 'ser237', 'ser537', 'ser561', 'ser596', 'ser626', 'ser706', 'ser72', 'ser91', 'IVANUz_1936_ser185', 'NLR_f-940_ser190', 'RGVIA_400-1-1015_ser143', 'TsGARUz_i126-1-938-2_ser82', 'TsGARUz_i126_1_1160_ser193', 'TsGARUZ_i126_1_1729_101_ser213', 'TsGARUz_i126_1_1730_19_ser218', 'TsGARUz_i126_1_1730_22_ser217', 'TsGARUz_i126_1_1730_2_ser188', 'TsGARUZ_i126_1_1730_81_ser227', 'TsGARUZ_i126_1_1986_1_ser201', 'TsGARUz_i126_1_1990_20_ser186', 'TsGARUZ_i126_1_1990_3_ser192', 'TsGARUz_R-2678_ser184', 'ser560', 'ser808', 'ser809', 'ser811', 'ser812', 'ser813', 'ser814', 'ser815', 'ser816', 'ser817', 'ser842', 'ser843', 'ser857', 'ser876', 'ser877', 'ser898'])"
      ]
     },
     "execution_count": 13,
     "metadata": {},
     "output_type": "execute_result"
    }
   ],
   "source": [
    "combo_xml_all.keys()"
   ]
  },
  {
   "cell_type": "markdown",
   "metadata": {},
   "source": [
    "# The Updater"
   ]
  },
  {
   "cell_type": "markdown",
   "metadata": {},
   "source": [
    "Loop blueprint:\n",
    "- Create new Dataframe for new data to be exported.\n",
    "- Loop through xml corpus (i.e. a dictionary of XML files).\n",
    "    - Create BeautifulSoup object for that XML document\n",
    "    - When encounter an empty tag (e.g. `<location>placename</location>`)\n",
    "        - check the place name against database CSV file of location names and id codes:\n",
    "            - if there's a unique match (only one value for the place name string), replace: `<location id =\"serial_no\" flag = \"auto\">placename</location>`\n",
    "                - Multiple place name variants with the same UID should be fine.\n",
    "            - if one place name string has multiple UIDs (e.g. Samarkand province vs. Samarkand city):\n",
    "                - flag for manual examination w/o guessing UID, i.e. replace: `<location flag = \"check\">placename</location>\n",
    "            - if no match, then:\n",
    "                - Tag with an auto-generated ID\n",
    "                - flag for manual examination, i.e. replace: `<location id = \"(auto-generated UID)\" flag = \"check\">placename</location>\n",
    "                - extract placename to csv file for import into database: \n",
    "                    - `(auto-generated new UI`, `(extracted string data)`, 'extracted'\n",
    "    - Archive and rename the originating XML file in archive folder.\n",
    "    - Save updated version XML file in separate file."
   ]
  },
  {
   "cell_type": "markdown",
   "metadata": {},
   "source": [
    "### Testing Constituent Parts of the Updater Loop"
   ]
  },
  {
   "cell_type": "code",
   "execution_count": 75,
   "metadata": {},
   "outputs": [],
   "source": [
    "with open(\"test_case.xml\") as f:\n",
    "        txt = f.read()"
   ]
  },
  {
   "cell_type": "code",
   "execution_count": 76,
   "metadata": {},
   "outputs": [],
   "source": [
    "tree = BeautifulSoup(txt)"
   ]
  },
  {
   "cell_type": "markdown",
   "metadata": {},
   "source": [
    "*Check if location is in database* "
   ]
  },
  {
   "cell_type": "code",
   "execution_count": 16,
   "metadata": {},
   "outputs": [
    {
     "name": "stdout",
     "output_type": "stream",
     "text": [
      "yes:  بلجوان\n",
      "yes:  بخارا\n",
      "yes:  بخارا\n",
      "yes:  ده نو\n",
      "yes:  ده نو\n",
      "yes:  ثمرقند\n",
      "yes:  ثمرقند\n",
      "no:  فیض اباد\n",
      "no:  فیض اباد\n"
     ]
    }
   ],
   "source": [
    "for loc in tree.find_all(\"location\"):\n",
    "    if db_locs['name'].str.contains(loc.get_text()).any():\n",
    "        print (\"yes: \", loc.get_text())\n",
    "    else:\n",
    "        print (\"no: \", loc.get_text())"
   ]
  },
  {
   "cell_type": "markdown",
   "metadata": {},
   "source": [
    "*Check if location is in database* and *there is only one UID* "
   ]
  },
  {
   "cell_type": "code",
   "execution_count": 17,
   "metadata": {
    "scrolled": true
   },
   "outputs": [
    {
     "name": "stdout",
     "output_type": "stream",
     "text": [
      "multiple_ids:  بلجوان\n",
      "multiple_ids:  بخارا\n",
      "multiple_ids:  بخارا\n",
      "multiple_ids:  ده نو\n",
      "multiple_ids:  ده نو\n",
      "multiple_ids:  ثمرقند\n",
      "multiple_ids:  ثمرقند\n"
     ]
    }
   ],
   "source": [
    "for loc in tree.find_all(\"location\"):\n",
    "    text = loc.get_text()\n",
    "    match = db_locs['name'].str.contains(text)\n",
    "    num = len(match.value_counts(True))\n",
    "    if num > 1:\n",
    "        print('multiple_ids: ', text)\n"
   ]
  },
  {
   "cell_type": "markdown",
   "metadata": {},
   "source": [
    "*Show the various categories*"
   ]
  },
  {
   "cell_type": "code",
   "execution_count": 19,
   "metadata": {
    "scrolled": true
   },
   "outputs": [
    {
     "name": "stdout",
     "output_type": "stream",
     "text": [
      "multiple_ids:  بلجوان\n",
      "multiple_ids:  بخارا\n",
      "tag id already entered:  بخارا\n",
      "unique: ده نو\n",
      "tag id already entered:  ده نو\n",
      "unique: ثمرقند\n",
      "tag id already entered:  ثمرقند\n",
      "no:  فیض اباد\n",
      "no:  فیض اباد\n"
     ]
    }
   ],
   "source": [
    "for loc in tree.find_all(\"location\"):\n",
    "    text = loc.get_text()\n",
    "    # First ignore tags that have already been given an attribute ID\n",
    "    if loc.has_attr(\"id\"):\n",
    "        print(\"tag id already entered: \", text)\n",
    "    # Then look at all tags that lack an ID\n",
    "    elif loc.has_attr(\"id\")==False:\n",
    "        match = db_locs[db_locs['name'].str.contains(text)]\n",
    "        num = len(match)\n",
    "        if num > 1:\n",
    "            print('multiple_ids: ', text)\n",
    "        elif num == 1:\n",
    "            print('unique:', text)\n",
    "        else:\n",
    "            print('no: ', text)"
   ]
  },
  {
   "cell_type": "markdown",
   "metadata": {},
   "source": [
    "*Export data for updating database*"
   ]
  },
  {
   "cell_type": "code",
   "execution_count": 78,
   "metadata": {},
   "outputs": [],
   "source": [
    "loc_export = pd.DataFrame(columns=['UID', 'Name'])"
   ]
  },
  {
   "cell_type": "markdown",
   "metadata": {},
   "source": [
    "*Manipulate the tags based on database entries*"
   ]
  },
  {
   "cell_type": "code",
   "execution_count": 80,
   "metadata": {},
   "outputs": [
    {
     "name": "stdout",
     "output_type": "stream",
     "text": [
      "فیض اباد\n"
     ]
    }
   ],
   "source": [
    "new_uid = 5\n",
    "for loc in tree.find_all(\"location\"):\n",
    "    text = loc.get_text()\n",
    "    # Look at all tags that lack an ID\n",
    "    if loc.has_attr(\"id\")==False:\n",
    "        match = db_locs[db_locs['name'].str.contains(text)]\n",
    "        num = len(match)\n",
    "        # Process tag values with multiple possible ID values\n",
    "        if num > 1:\n",
    "            loc[\"flag\"] = \"multiple_ids\"\n",
    "        # Add IDs to tags with unique string corresponding to single database entry\n",
    "        elif num == 1:\n",
    "            loc[\"id\"] = int(db_locs.loc[db_locs['name'] == text][\"id\"])\n",
    "        # For strings not contained in database, add new UID, and create new entry to update database\n",
    "        else:\n",
    "            new_text = loc.get_text()\n",
    "            if loc_export['Name'].str.contains(new_text).any():\n",
    "                loc[\"id\"] = int(loc_export.loc[loc_export['Name'] == new_text][\"UID\"])\n",
    "            else:\n",
    "                loc[\"id\"] = new_uid\n",
    "                loc_export = loc_export.append({'UID' : new_uid , 'Name' : loc.get_text()}, ignore_index=True)\n",
    "                #print (loc.get_text())\n",
    "                new_uid = new_uid + 1\n",
    "    # Drop duplicates in export file\n",
    "    #loc_export = loc_export.drop_duplicates(subset=\"Name\")"
   ]
  },
  {
   "cell_type": "code",
   "execution_count": 39,
   "metadata": {},
   "outputs": [
    {
     "data": {
      "text/plain": [
       "'بخارا'"
      ]
     },
     "execution_count": 39,
     "metadata": {},
     "output_type": "execute_result"
    }
   ],
   "source": [
    "tree.find_all(\"location\")[2].get_text()"
   ]
  },
  {
   "cell_type": "code",
   "execution_count": 67,
   "metadata": {},
   "outputs": [
    {
     "data": {
      "text/html": [
       "<div>\n",
       "<style scoped>\n",
       "    .dataframe tbody tr th:only-of-type {\n",
       "        vertical-align: middle;\n",
       "    }\n",
       "\n",
       "    .dataframe tbody tr th {\n",
       "        vertical-align: top;\n",
       "    }\n",
       "\n",
       "    .dataframe thead th {\n",
       "        text-align: right;\n",
       "    }\n",
       "</style>\n",
       "<table border=\"1\" class=\"dataframe\">\n",
       "  <thead>\n",
       "    <tr style=\"text-align: right;\">\n",
       "      <th></th>\n",
       "      <th>UID</th>\n",
       "      <th>Name</th>\n",
       "    </tr>\n",
       "  </thead>\n",
       "  <tbody>\n",
       "    <tr>\n",
       "      <td>0</td>\n",
       "      <td>5</td>\n",
       "      <td>فیض اباد</td>\n",
       "    </tr>\n",
       "  </tbody>\n",
       "</table>\n",
       "</div>"
      ],
      "text/plain": [
       "  UID      Name\n",
       "0   5  فیض اباد"
      ]
     },
     "execution_count": 67,
     "metadata": {},
     "output_type": "execute_result"
    }
   ],
   "source": [
    "loc_export"
   ]
  },
  {
   "cell_type": "code",
   "execution_count": 70,
   "metadata": {},
   "outputs": [
    {
     "data": {
      "text/plain": [
       "'فیض اباد'"
      ]
     },
     "execution_count": 70,
     "metadata": {},
     "output_type": "execute_result"
    }
   ],
   "source": [
    "int(db_locs.loc[db_locs['name'] == \"ده نو\"][\"id\"])"
   ]
  },
  {
   "cell_type": "markdown",
   "metadata": {},
   "source": [
    "## Testing"
   ]
  },
  {
   "cell_type": "code",
   "execution_count": 90,
   "metadata": {},
   "outputs": [],
   "source": [
    "tree = BeautifulSoup(combo_xml_all[\"ser898\"])"
   ]
  },
  {
   "cell_type": "code",
   "execution_count": 91,
   "metadata": {},
   "outputs": [],
   "source": [
    "first = tree.find_all('location')[0]"
   ]
  },
  {
   "cell_type": "code",
   "execution_count": 86,
   "metadata": {},
   "outputs": [
    {
     "data": {
      "text/plain": [
       "True"
      ]
     },
     "execution_count": 86,
     "metadata": {},
     "output_type": "execute_result"
    }
   ],
   "source": [
    "'locid' in first.attrs"
   ]
  },
  {
   "cell_type": "code",
   "execution_count": 87,
   "metadata": {},
   "outputs": [],
   "source": [
    "first.attrs['locid'] = 5"
   ]
  },
  {
   "cell_type": "code",
   "execution_count": null,
   "metadata": {},
   "outputs": [],
   "source": [
    "first"
   ]
  },
  {
   "cell_type": "code",
   "execution_count": null,
   "metadata": {},
   "outputs": [],
   "source": [
    "hits = db_locs[db_locs['name']==first.text]"
   ]
  },
  {
   "cell_type": "code",
   "execution_count": null,
   "metadata": {},
   "outputs": [],
   "source": [
    "len(hits)"
   ]
  },
  {
   "cell_type": "code",
   "execution_count": 29,
   "metadata": {},
   "outputs": [
    {
     "data": {
      "text/plain": [
       "[<location flag=\"multiple_ids\">بلجوان</location>,\n",
       " <location flag=\"multiple_ids\">بخارا</location>,\n",
       " <location id=\"3\">بخارا</location>,\n",
       " <location id=\"394\">ده نو</location>,\n",
       " <location id=\"394\">ده نو</location>,\n",
       " <location id=\"394\">ثمرقند</location>,\n",
       " <location id=\"5\">ثمرقند</location>,\n",
       " <location id=\"testing\">فیض اباد</location>,\n",
       " <location id=\"testing\">فیض اباد</location>]"
      ]
     },
     "execution_count": 29,
     "metadata": {},
     "output_type": "execute_result"
    }
   ],
   "source": [
    "tree.find_all('location')"
   ]
  },
  {
   "cell_type": "code",
   "execution_count": null,
   "metadata": {},
   "outputs": [],
   "source": [
    "tree.div"
   ]
  },
  {
   "cell_type": "code",
   "execution_count": 81,
   "metadata": {},
   "outputs": [
    {
     "name": "stdout",
     "output_type": "stream",
     "text": [
      "<?xml-model href=\"../../../../../Projects/xml_development_eurasia/schemas/persian_documents_schema_basic.rnc\" type=\"application/relax-ng-compact-syntax\"?>\n",
      "<html>\n",
      " <body>\n",
      "  <document serial=\"898\">\n",
      "   <div type=\"heading\">\n",
      "    <ts type=\"inscriptio\">\n",
      "    </ts>\n",
      "    <lb>\n",
      "    </lb>\n",
      "    جناب حضرت وزارت پناهی امیدگاهی و صاحب دولتم سلمه الله تعالی\n",
      "   </div>\n",
      "   <div type=\"section\">\n",
      "    <!-- left column -->\n",
      "    <ts type=\"apprecatio\">\n",
      "    </ts>\n",
      "    <lb>\n",
      "    </lb>\n",
      "    عرضه داشت اینغلام\n",
      "    <honorific type=\"inferior\">\n",
      "     رضاجوی\n",
      "    </honorific>\n",
      "    <honorific type=\"inferior\">\n",
      "     جانسپار\n",
      "    </honorific>\n",
      "    <flag type=\"meaning\">\n",
      "     خرمان\n",
      "    </flag>\n",
      "    کثیر الاخلاص\n",
      "    <lb>\n",
      "    </lb>\n",
      "    وافر الاعتقاد و خبر خواه عقیدت نهاد قلیل الخدمت کثیر الامید بجناب\n",
      "    <lb>\n",
      "    </lb>\n",
      "    ذاة خجسته صفات زیب بخش امارت و زینت افزای بساط\n",
      "    <lb>\n",
      "    </lb>\n",
      "    عزت و حرمت ترازندۀ لوای معدلت و نیک نامی فرازنده اعلام\n",
      "    <lb>\n",
      "    </lb>\n",
      "    <diplo type=\"orthography\">\n",
      "     حشمت\n",
      "    </diplo>\n",
      "    و انتظام ناظم مناظم و امور دین و دولت بساط\n",
      "    <lb>\n",
      "    </lb>\n",
      "    شهریاری حافظ مسند عزت و نامداری مقرب حضرت خاقان\n",
      "    <!-- Stan: مقرب حضرت used quite frequently in Safavid period; it was a class of official. -->\n",
      "    <lb>\n",
      "    </lb>\n",
      "    و سلطنت مرفوع\n",
      "    <diplo indended=\"ضمیر\" type=\"orthography\">\n",
      "     طمیر\n",
      "    </diplo>\n",
      "    منیر خورشید نظیر مملکت\n",
      "\t\tپناها بصد هزار\n",
      "    <!-- Need to decide how to deal with mistakes in original i.e. above supposed to be ضمیر -->\n",
      "    <lb>\n",
      "    </lb>\n",
      "    اداب و شکسته گی چنان رسانیده میشود که الحمد الله احوالات\n",
      "    <lb>\n",
      "    </lb>\n",
      "    اینغلام رضاجوی بفضل و کرم الهی بهمین دولت ابد مدة\n",
      "    <lb>\n",
      "    </lb>\n",
      "    ظفر نمون بدرجه خوشی در گذر بوده سلامی جنابمولایم را از درگاه ---\n",
      "    <!-- Right column (diagonal) -->\n",
      "   </div>\n",
      "   <div type=\"section\">\n",
      "    <lb>\n",
      "    </lb>\n",
      "    <flag type=\"meaning\">\n",
      "     ایزید\n",
      "    </flag>\n",
      "    مراد بخش خواسته\n",
      "    <lb>\n",
      "    </lb>\n",
      "    دعا مینمایم\n",
      "    <ts type=\"narratio\">\n",
      "    </ts>\n",
      "    بعده اینکه امیدگاها چنانچه\n",
      "    <!-- Beginning of narratio -->\n",
      "    <lb>\n",
      "    </lb>\n",
      "    خطیکه همراه\n",
      "    <individual>\n",
      "     عبد الجبار\n",
      "    </individual>\n",
      "    غلامشان فرستاده بودید در وقت\n",
      "    <lb>\n",
      "    </lb>\n",
      "    نگرانی امده رسید سلامتی را دانسته جهان جهان خورسندی\n",
      "    <flag type=\"unclear\">\n",
      "     بسلامتها به وفرخمیدی\n",
      "    </flag>\n",
      "    بی اندازه\n",
      "    <lb>\n",
      "    </lb>\n",
      "    حاصل گردید از روی مهربانی جنابمولایم خط حاکم\n",
      "    <location flag=\"multiple_ids\">\n",
      "     بلجوان\n",
      "    </location>\n",
      "    را همراه یک ادم خودم فرستاده در جواب ان\n",
      "    <lb>\n",
      "    </lb>\n",
      "    خط گرفته بدست\n",
      "    <individual>\n",
      "     عبد الجبار بیک\n",
      "    </individual>\n",
      "    <location flag=\"multiple_ids\">\n",
      "     بخارا\n",
      "    </location>\n",
      "    <location id=\"3\">\n",
      "     بخارا\n",
      "    </location>\n",
      "    <location id=\"394\">\n",
      "     ده نو\n",
      "    </location>\n",
      "    <location id=\"394\">\n",
      "     ده نو\n",
      "    </location>\n",
      "    <location id=\"5\">\n",
      "     ثمرقند\n",
      "    </location>\n",
      "    <location id=\"5\">\n",
      "     ثمرقند\n",
      "    </location>\n",
      "    غلامشان بسپاریدم امید ستکه خدمت جناب ان برده سپار و عرض دیگر اینکه امیدگاها\n",
      "    <!-- New topic -->\n",
      "    <ts type=\"narratio\">\n",
      "    </ts>\n",
      "    <lb>\n",
      "    </lb>\n",
      "    ثانی دهم\n",
      "    <date>\n",
      "     شهر محرم یوم سه شنبه\n",
      "    </date>\n",
      "    <individual>\n",
      "     مقیم خواجه\n",
      "     <role id=\"124\">\n",
      "      قراولبیگی\n",
      "     </role>\n",
      "    </individual>\n",
      "    و\n",
      "    <individual>\n",
      "     عبد الرسول\n",
      "     <role id=\"191\">\n",
      "      میرزا باشی\n",
      "     </role>\n",
      "    </individual>\n",
      "    غلامشان امده در خوش خوانه اینغلام رضاجوی فرامده\n",
      "    <flag type=\"unclear\">\n",
      "     نمازی\n",
      "    </flag>\n",
      "    کرده\n",
      "    <lb>\n",
      "    </lb>\n",
      "    <individual>\n",
      "     مقیم خواجه\n",
      "    </individual>\n",
      "    غلامشان بر امده در موضع\n",
      "    <location id=\"5\">\n",
      "     فیض اباد\n",
      "    </location>\n",
      "    رفته ناتاب شده بوده است از املاکدار\n",
      "\t\tبمیر\n",
      "    <individual>\n",
      "     <role id=\"42\">\n",
      "      قشبیگی\n",
      "     </role>\n",
      "    </individual>\n",
      "    خط امد گی محرم امده گی ناتاب شده\n",
      "    <lb>\n",
      "    </lb>\n",
      "    از زبان مانده است گفته\n",
      "    <individual>\n",
      "     میر\n",
      "     <role id=\"42\">\n",
      "      قشبیگی\n",
      "     </role>\n",
      "    </individual>\n",
      "    این غلامشان را گرفته برده خط املاکدار را نشان داده مهربانی نمودند که زود رفته خبر گیرید اگر\n",
      "\t\tمرده باشد خط را\n",
      "    <lb>\n",
      "    </lb>\n",
      "    خود شما گرفته برید گفته مهربانی نمودند نماز شام بر امده رفته در موضع\n",
      "    <location id=\"5\">\n",
      "     فیض اباد\n",
      "    </location>\n",
      "    رسیدم که\n",
      "    <individual>\n",
      "     مقیم خواجه\n",
      "    </individual>\n",
      "    بغلامشان\n",
      "    <flag type=\"unclear\">\n",
      "     اسیر مه دوانده\n",
      "    </flag>\n",
      "    کمتر خون کم کرده باز\n",
      "    <lb>\n",
      "    </lb>\n",
      "    صحت سلامت پگاه پنجشنبه برامده رفته بوده است از اینجهت معلوم مولایم شود گفته عرض بنده گی\n",
      "\t\tنمودم و یکمهربانی جنابمولایم شده بود که\n",
      "    <lb>\n",
      "    </lb>\n",
      "    یکسال باز از دخل خرج زمان هیچ معلوم منمیکنید گفته بودید منهم در ارزوی بهمین بودم که یکسال\n",
      "\t\tباز در حصار از مهربانی جنابعالی و از\n",
      "    <lb>\n",
      "    </lb>\n",
      "    و از شرافت جنابصاحبا دولتنستانم ذکواتچی هستیم هیچ دخلی نباشد\n",
      "    <flag type=\"unclear\">\n",
      "     چتریقه\n",
      "    </flag>\n",
      "    معلوم میکرده باشم و بچه طریقه صاحب دولتم را\n",
      "    <flag>\n",
      "     روزی\n",
      "    </flag>\n",
      "    <lb>\n",
      "    </lb>\n",
      "    <!-- What to do about misspellings like چتریقه -->\n",
      "    میکرده باشم گفته شب روز در انیدهشه بودم\n",
      "\t\tاز این مهربانی مولایم سرم بگردون\n",
      "    <flag>\n",
      "     نیله گون\n",
      "    </flag>\n",
      "    رسیده از روی نادانی و نا عامیلی ام\n",
      "    <lb>\n",
      "    </lb>\n",
      "    خبریکه دخل و خرج شده بود همراه\n",
      "    <individual>\n",
      "     عبد الطبار بیک\n",
      "    </individual>\n",
      "    غلامشان بخدمت ذی سعادت جنابمولایم داده فرستادهم هر چه مرحمت مولایم\n",
      "    <lb>\n",
      "    </lb>\n",
      "    شود غلام هستم دیگر اطراف و جوانب اینولا علما فضلا فقیر فقرا همه اسایش بوده دعا گوی دیگر\n",
      "    <flag>\n",
      "     پیشه\n",
      "    </flag>\n",
      "    و اندیشه\n",
      "    <flag>\n",
      "     ندارند\n",
      "    </flag>\n",
      "    <lb>\n",
      "    </lb>\n",
      "    خصوص این غلام رضاجوی شب و روز دعا دولت جنابعالی و مولازاده گانم را از درگاهی\n",
      "    <flag>\n",
      "     شهر\n",
      "    </flag>\n",
      "    خواسته دعا مینمایم که\n",
      "    <lb>\n",
      "    </lb>\n",
      "    <flag>\n",
      "     رهرسایه\n",
      "    </flag>\n",
      "    دولت جناب ان را از\n",
      "    <flag>\n",
      "     سرما\n",
      "    </flag>\n",
      "    غریب دعاگوی کم نکنند\n",
      "    <flag>\n",
      "     انها\n",
      "    </flag>\n",
      "    امین باقی ایام بکام ا\n",
      "    <flag>\n",
      "     لایوم قام\n",
      "    </flag>\n",
      "    <lb>\n",
      "    </lb>\n",
      "    باقی السلام علیکم الفقر الفقر حضرت واجب\n",
      "    <flag>\n",
      "     تناکی\n",
      "    </flag>\n",
      "    الفقر الفقر\n",
      "    <lb>\n",
      "    </lb>\n",
      "    الفقر الفقر\n",
      "   </div>\n",
      "  </document>\n",
      " </body>\n",
      "</html>\n"
     ]
    }
   ],
   "source": [
    "print(tree.prettify())"
   ]
  },
  {
   "cell_type": "code",
   "execution_count": null,
   "metadata": {},
   "outputs": [],
   "source": [
    "tag = tree.div"
   ]
  },
  {
   "cell_type": "code",
   "execution_count": null,
   "metadata": {},
   "outputs": [],
   "source": [
    "type(tag.name)"
   ]
  },
  {
   "cell_type": "code",
   "execution_count": null,
   "metadata": {},
   "outputs": [],
   "source": [
    "type(tag.attrs)"
   ]
  },
  {
   "cell_type": "code",
   "execution_count": null,
   "metadata": {},
   "outputs": [],
   "source": [
    "tree.div"
   ]
  },
  {
   "cell_type": "code",
   "execution_count": null,
   "metadata": {},
   "outputs": [],
   "source": [
    "type(tree.div)"
   ]
  },
  {
   "cell_type": "code",
   "execution_count": null,
   "metadata": {},
   "outputs": [],
   "source": [
    "tree.div.contents"
   ]
  },
  {
   "cell_type": "code",
   "execution_count": null,
   "metadata": {},
   "outputs": [],
   "source": [
    "for string in tree.stripped_strings:\n",
    "    print(repr(string))"
   ]
  },
  {
   "cell_type": "code",
   "execution_count": null,
   "metadata": {},
   "outputs": [],
   "source": [
    "type(tree.find_all(\"div\"))"
   ]
  },
  {
   "cell_type": "code",
   "execution_count": 123,
   "metadata": {},
   "outputs": [
    {
     "ename": "AttributeError",
     "evalue": "ResultSet object has no attribute 'get_text'. You're probably treating a list of items like a single item. Did you call find_all() when you meant to call find()?",
     "output_type": "error",
     "traceback": [
      "\u001b[0;31m---------------------------------------------------------------------------\u001b[0m",
      "\u001b[0;31mAttributeError\u001b[0m                            Traceback (most recent call last)",
      "\u001b[0;32m<ipython-input-123-52ebfa90a8c4>\u001b[0m in \u001b[0;36m<module>\u001b[0;34m\u001b[0m\n\u001b[0;32m----> 1\u001b[0;31m \u001b[0mtree\u001b[0m\u001b[0;34m.\u001b[0m\u001b[0mfind_all\u001b[0m\u001b[0;34m(\u001b[0m\u001b[0;34m\"location\"\u001b[0m\u001b[0;34m)\u001b[0m\u001b[0;34m.\u001b[0m\u001b[0mget_text\u001b[0m\u001b[0;34m(\u001b[0m\u001b[0;34m)\u001b[0m\u001b[0;34m\u001b[0m\u001b[0;34m\u001b[0m\u001b[0m\n\u001b[0m",
      "\u001b[0;32m~/opt/anaconda3/lib/python3.7/site-packages/bs4/element.py\u001b[0m in \u001b[0;36m__getattr__\u001b[0;34m(self, key)\u001b[0m\n\u001b[1;32m   1576\u001b[0m     \u001b[0;32mdef\u001b[0m \u001b[0m__getattr__\u001b[0m\u001b[0;34m(\u001b[0m\u001b[0mself\u001b[0m\u001b[0;34m,\u001b[0m \u001b[0mkey\u001b[0m\u001b[0;34m)\u001b[0m\u001b[0;34m:\u001b[0m\u001b[0;34m\u001b[0m\u001b[0;34m\u001b[0m\u001b[0m\n\u001b[1;32m   1577\u001b[0m         raise AttributeError(\n\u001b[0;32m-> 1578\u001b[0;31m             \u001b[0;34m\"ResultSet object has no attribute '%s'. You're probably treating a list of items like a single item. Did you call find_all() when you meant to call find()?\"\u001b[0m \u001b[0;34m%\u001b[0m \u001b[0mkey\u001b[0m\u001b[0;34m\u001b[0m\u001b[0;34m\u001b[0m\u001b[0m\n\u001b[0m\u001b[1;32m   1579\u001b[0m         )\n",
      "\u001b[0;31mAttributeError\u001b[0m: ResultSet object has no attribute 'get_text'. You're probably treating a list of items like a single item. Did you call find_all() when you meant to call find()?"
     ]
    }
   ],
   "source": [
    "tree.find_all(\"location\").get_text()"
   ]
  }
 ],
 "metadata": {
  "kernelspec": {
   "display_name": "Python 3",
   "language": "python",
   "name": "python3"
  },
  "language_info": {
   "codemirror_mode": {
    "name": "ipython",
    "version": 3
   },
   "file_extension": ".py",
   "mimetype": "text/x-python",
   "name": "python",
   "nbconvert_exporter": "python",
   "pygments_lexer": "ipython3",
   "version": "3.7.4"
  }
 },
 "nbformat": 4,
 "nbformat_minor": 4
}
