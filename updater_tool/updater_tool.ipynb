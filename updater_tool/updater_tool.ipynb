{
 "cells": [
  {
   "cell_type": "markdown",
   "metadata": {},
   "source": [
    "# XML Updater Tool\n",
    "\n",
    "Using a relational data to automatically update XML code, and vice versa."
   ]
  },
  {
   "cell_type": "code",
   "execution_count": 73,
   "metadata": {},
   "outputs": [],
   "source": [
    "import pandas as pd\n",
    "from bs4 import BeautifulSoup\n",
    "import os, pickle"
   ]
  },
  {
   "cell_type": "code",
   "execution_count": 74,
   "metadata": {},
   "outputs": [],
   "source": [
    "hdir = os.path.expanduser('~')\n",
    "pickle_path = hdir + \"/Box/Notes/Digital_Humanities/Corpora/pickled_tokenized_cleaned_corpora\"\n",
    "data_path = ext_corp_path = hdir + \"/Box/Notes/Digital_Humanities/Datasets/exported_database_data/basic_corresondences\""
   ]
  },
  {
   "cell_type": "markdown",
   "metadata": {},
   "source": [
    "### Read in CSV Database Files"
   ]
  },
  {
   "cell_type": "code",
   "execution_count": 75,
   "metadata": {},
   "outputs": [],
   "source": [
    "locs = pd.read_csv(data_path + '/location_data.csv', names=['id', 'name'])"
   ]
  },
  {
   "cell_type": "markdown",
   "metadata": {},
   "source": [
    "Split on `\\x0b` for IDs with more than one value separated by a line break."
   ]
  },
  {
   "cell_type": "code",
   "execution_count": 76,
   "metadata": {
    "scrolled": true
   },
   "outputs": [
    {
     "data": {
      "text/plain": [
       "['سمرقند', 'ثمرقند']"
      ]
     },
     "execution_count": 76,
     "metadata": {},
     "output_type": "execute_result"
    }
   ],
   "source": [
    "locs[locs['id']==5].iloc[0]['name'].split('\\x0b')"
   ]
  },
  {
   "cell_type": "markdown",
   "metadata": {},
   "source": [
    "Create DataFrame with doubled entries for IDs with multiple values."
   ]
  },
  {
   "cell_type": "code",
   "execution_count": 77,
   "metadata": {},
   "outputs": [],
   "source": [
    "locs = pd.DataFrame(sum([[(x.id, z) for z in x.name.split('\\x0b')] for x in locs.fillna('').itertuples()], []), columns=['id', 'name'])"
   ]
  },
  {
   "cell_type": "code",
   "execution_count": 78,
   "metadata": {
    "scrolled": true
   },
   "outputs": [
    {
     "data": {
      "text/html": [
       "<div>\n",
       "<style scoped>\n",
       "    .dataframe tbody tr th:only-of-type {\n",
       "        vertical-align: middle;\n",
       "    }\n",
       "\n",
       "    .dataframe tbody tr th {\n",
       "        vertical-align: top;\n",
       "    }\n",
       "\n",
       "    .dataframe thead th {\n",
       "        text-align: right;\n",
       "    }\n",
       "</style>\n",
       "<table border=\"1\" class=\"dataframe\">\n",
       "  <thead>\n",
       "    <tr style=\"text-align: right;\">\n",
       "      <th></th>\n",
       "      <th>id</th>\n",
       "      <th>name</th>\n",
       "    </tr>\n",
       "  </thead>\n",
       "  <tbody>\n",
       "    <tr>\n",
       "      <td>0</td>\n",
       "      <td>1</td>\n",
       "      <td>حصار</td>\n",
       "    </tr>\n",
       "    <tr>\n",
       "      <td>1</td>\n",
       "      <td>2</td>\n",
       "      <td>کندرود</td>\n",
       "    </tr>\n",
       "    <tr>\n",
       "      <td>2</td>\n",
       "      <td>3</td>\n",
       "      <td>بخارا</td>\n",
       "    </tr>\n",
       "    <tr>\n",
       "      <td>3</td>\n",
       "      <td>4</td>\n",
       "      <td>ولایت بلخ</td>\n",
       "    </tr>\n",
       "    <tr>\n",
       "      <td>4</td>\n",
       "      <td>5</td>\n",
       "      <td>سمرقند</td>\n",
       "    </tr>\n",
       "    <tr>\n",
       "      <td>5</td>\n",
       "      <td>5</td>\n",
       "      <td>ثمرقند</td>\n",
       "    </tr>\n",
       "    <tr>\n",
       "      <td>6</td>\n",
       "      <td>6</td>\n",
       "      <td>خوقند</td>\n",
       "    </tr>\n",
       "    <tr>\n",
       "      <td>7</td>\n",
       "      <td>7</td>\n",
       "      <td>کابل</td>\n",
       "    </tr>\n",
       "    <tr>\n",
       "      <td>8</td>\n",
       "      <td>8</td>\n",
       "      <td>قزان</td>\n",
       "    </tr>\n",
       "    <tr>\n",
       "      <td>9</td>\n",
       "      <td>9</td>\n",
       "      <td>تاشکند</td>\n",
       "    </tr>\n",
       "  </tbody>\n",
       "</table>\n",
       "</div>"
      ],
      "text/plain": [
       "   id       name\n",
       "0   1       حصار\n",
       "1   2     کندرود\n",
       "2   3      بخارا\n",
       "3   4  ولایت بلخ\n",
       "4   5     سمرقند\n",
       "5   5     ثمرقند\n",
       "6   6      خوقند\n",
       "7   7       کابل\n",
       "8   8       قزان\n",
       "9   9     تاشکند"
      ]
     },
     "execution_count": 78,
     "metadata": {},
     "output_type": "execute_result"
    }
   ],
   "source": [
    "locs.head(10)"
   ]
  },
  {
   "cell_type": "code",
   "execution_count": 79,
   "metadata": {},
   "outputs": [
    {
     "data": {
      "text/plain": [
       "id      1460\n",
       "name    1460\n",
       "dtype: int64"
      ]
     },
     "execution_count": 79,
     "metadata": {},
     "output_type": "execute_result"
    }
   ],
   "source": [
    "locs.count()"
   ]
  },
  {
   "cell_type": "markdown",
   "metadata": {},
   "source": [
    "Add columns to differentiate which names are unique and which IDs are unique."
   ]
  },
  {
   "cell_type": "code",
   "execution_count": 80,
   "metadata": {},
   "outputs": [
    {
     "data": {
      "text/html": [
       "<div>\n",
       "<style scoped>\n",
       "    .dataframe tbody tr th:only-of-type {\n",
       "        vertical-align: middle;\n",
       "    }\n",
       "\n",
       "    .dataframe tbody tr th {\n",
       "        vertical-align: top;\n",
       "    }\n",
       "\n",
       "    .dataframe thead th {\n",
       "        text-align: right;\n",
       "    }\n",
       "</style>\n",
       "<table border=\"1\" class=\"dataframe\">\n",
       "  <thead>\n",
       "    <tr style=\"text-align: right;\">\n",
       "      <th></th>\n",
       "      <th>id</th>\n",
       "      <th>name</th>\n",
       "      <th>name_count</th>\n",
       "    </tr>\n",
       "  </thead>\n",
       "  <tbody>\n",
       "    <tr>\n",
       "      <td>0</td>\n",
       "      <td>1</td>\n",
       "      <td>حصار</td>\n",
       "      <td>2</td>\n",
       "    </tr>\n",
       "    <tr>\n",
       "      <td>794</td>\n",
       "      <td>351</td>\n",
       "      <td>حصار</td>\n",
       "      <td>2</td>\n",
       "    </tr>\n",
       "  </tbody>\n",
       "</table>\n",
       "</div>"
      ],
      "text/plain": [
       "      id  name  name_count\n",
       "0      1  حصار           2\n",
       "794  351  حصار           2"
      ]
     },
     "execution_count": 80,
     "metadata": {},
     "output_type": "execute_result"
    }
   ],
   "source": [
    "locs['name_count'] = locs.groupby(['name'])['id'].transform('count')\n",
    "\n",
    "locs.loc[locs['name'] == \"حصار\"]"
   ]
  },
  {
   "cell_type": "code",
   "execution_count": 81,
   "metadata": {
    "scrolled": true
   },
   "outputs": [
    {
     "data": {
      "text/html": [
       "<div>\n",
       "<style scoped>\n",
       "    .dataframe tbody tr th:only-of-type {\n",
       "        vertical-align: middle;\n",
       "    }\n",
       "\n",
       "    .dataframe tbody tr th {\n",
       "        vertical-align: top;\n",
       "    }\n",
       "\n",
       "    .dataframe thead th {\n",
       "        text-align: right;\n",
       "    }\n",
       "</style>\n",
       "<table border=\"1\" class=\"dataframe\">\n",
       "  <thead>\n",
       "    <tr style=\"text-align: right;\">\n",
       "      <th></th>\n",
       "      <th>id</th>\n",
       "      <th>name</th>\n",
       "      <th>name_count</th>\n",
       "      <th>id_count</th>\n",
       "    </tr>\n",
       "  </thead>\n",
       "  <tbody>\n",
       "    <tr>\n",
       "      <td>4</td>\n",
       "      <td>5</td>\n",
       "      <td>سمرقند</td>\n",
       "      <td>1</td>\n",
       "      <td>2</td>\n",
       "    </tr>\n",
       "  </tbody>\n",
       "</table>\n",
       "</div>"
      ],
      "text/plain": [
       "   id    name  name_count  id_count\n",
       "4   5  سمرقند           1         2"
      ]
     },
     "execution_count": 81,
     "metadata": {},
     "output_type": "execute_result"
    }
   ],
   "source": [
    "locs['id_count'] = locs.groupby(['id'])['name'].transform('count')\n",
    "\n",
    "locs.loc[locs['name'] == \"سمرقند\"]"
   ]
  },
  {
   "cell_type": "code",
   "execution_count": 119,
   "metadata": {},
   "outputs": [
    {
     "data": {
      "text/plain": [
       "True"
      ]
     },
     "execution_count": 119,
     "metadata": {},
     "output_type": "execute_result"
    }
   ],
   "source": [
    "locs['name'].str.contains(\"حصار\").any()"
   ]
  },
  {
   "cell_type": "markdown",
   "metadata": {},
   "source": [
    "## XML"
   ]
  },
  {
   "cell_type": "markdown",
   "metadata": {},
   "source": [
    "Unpickle"
   ]
  },
  {
   "cell_type": "code",
   "execution_count": 82,
   "metadata": {},
   "outputs": [],
   "source": [
    "with open(pickle_path + \"/xml_corpora.pkl\", \"rb\") as f:\n",
    "    ind_man_docs, hyd_man_docs, trans_man_docs,\\\n",
    "                combo_xml_final, combo_xml_all = pickle.load(f)"
   ]
  },
  {
   "cell_type": "code",
   "execution_count": 83,
   "metadata": {
    "scrolled": true
   },
   "outputs": [
    {
     "data": {
      "text/plain": [
       "dict_keys(['ser818', 'ser179', 'ser183', 'ser187', 'ser212', 'ser215', 'ser237', 'ser537', 'ser561', 'ser596', 'ser626', 'ser706', 'ser72', 'ser91', 'IVANUz_1936_ser185', 'NLR_f-940_ser190', 'RGVIA_400-1-1015_ser143', 'TsGARUz_i126-1-938-2_ser82', 'TsGARUz_i126_1_1160_ser193', 'TsGARUZ_i126_1_1729_101_ser213', 'TsGARUz_i126_1_1730_19_ser218', 'TsGARUz_i126_1_1730_22_ser217', 'TsGARUz_i126_1_1730_2_ser188', 'TsGARUZ_i126_1_1730_81_ser227', 'TsGARUZ_i126_1_1986_1_ser201', 'TsGARUz_i126_1_1990_20_ser186', 'TsGARUZ_i126_1_1990_3_ser192', 'TsGARUz_R-2678_ser184', 'ser560', 'ser808', 'ser809', 'ser811', 'ser812', 'ser813', 'ser814', 'ser815', 'ser816', 'ser817', 'ser842', 'ser843', 'ser857', 'ser876', 'ser877', 'ser898'])"
      ]
     },
     "execution_count": 83,
     "metadata": {},
     "output_type": "execute_result"
    }
   ],
   "source": [
    "combo_xml_all.keys()"
   ]
  },
  {
   "cell_type": "markdown",
   "metadata": {},
   "source": [
    "# The Updater"
   ]
  },
  {
   "cell_type": "markdown",
   "metadata": {},
   "source": [
    "Loop blueprint:\n",
    "- Create new Dataframe for new data to be exported.\n",
    "- Loop through xml corpus (i.e. a dictionary of XML files).\n",
    "    - Create BeautifulSoup object for that XML document\n",
    "    - When encounter an empty tag (e.g. `<location>placename</location>`)\n",
    "        - check the place name against database CSV file of location names and id codes:\n",
    "            - if there's a unique match (only one value for the place name string), replace: `<location id =\"serial_no\" flag = \"auto\">placename</location>`\n",
    "                - Multiple place name variants with the same UID should be fine.\n",
    "            - if one place name string has multiple UIDs (e.g. Samarkand province vs. Samarkand city):\n",
    "                - flag for manual examination w/o guessing UID, i.e. replace: `<location flag = \"check\">placename</location>\n",
    "            - if no match, then:\n",
    "                - Tag with an auto-generated ID\n",
    "                - flag for manual examination, i.e. replace: `<location id = \"(auto-generated UID)\" flag = \"check\">placename</location>\n",
    "                - extract placename to csv file for import into database: \n",
    "                    - `(auto-generated new UI`, `(extracted string data)`, 'extracted'\n",
    "    - Archive and rename the originating XML file in archive folder.\n",
    "    - Save updated version XML file in separate file."
   ]
  },
  {
   "cell_type": "markdown",
   "metadata": {},
   "source": [
    "### Testing Constituent Parts of the Updater Loop"
   ]
  },
  {
   "cell_type": "markdown",
   "metadata": {},
   "source": [
    "*Check if location is in database* "
   ]
  },
  {
   "cell_type": "code",
   "execution_count": 126,
   "metadata": {},
   "outputs": [
    {
     "name": "stdout",
     "output_type": "stream",
     "text": [
      "yes:  بلجوان\n",
      "no:  فیض اباد\n"
     ]
    }
   ],
   "source": [
    "for loc in tree.find_all(\"location\"):\n",
    "    if locs['name'].str.contains(loc.get_text()).any():\n",
    "        print (\"yes: \", loc.get_text())\n",
    "    else:\n",
    "        print (\"no: \", loc.get_text())"
   ]
  },
  {
   "cell_type": "markdown",
   "metadata": {},
   "source": [
    "*Check if location is in database *and* there is only one UID* "
   ]
  },
  {
   "cell_type": "code",
   "execution_count": 150,
   "metadata": {},
   "outputs": [
    {
     "ename": "ValueError",
     "evalue": "The truth value of a Series is ambiguous. Use a.empty, a.bool(), a.item(), a.any() or a.all().",
     "output_type": "error",
     "traceback": [
      "\u001b[0;31m---------------------------------------------------------------------------\u001b[0m",
      "\u001b[0;31mValueError\u001b[0m                                Traceback (most recent call last)",
      "\u001b[0;32m<ipython-input-150-bc7a9572ffcc>\u001b[0m in \u001b[0;36m<module>\u001b[0;34m\u001b[0m\n\u001b[1;32m      1\u001b[0m \u001b[0;32mfor\u001b[0m \u001b[0mloc\u001b[0m \u001b[0;32min\u001b[0m \u001b[0mtree\u001b[0m\u001b[0;34m.\u001b[0m\u001b[0mfind_all\u001b[0m\u001b[0;34m(\u001b[0m\u001b[0;34m\"location\"\u001b[0m\u001b[0;34m)\u001b[0m\u001b[0;34m:\u001b[0m\u001b[0;34m\u001b[0m\u001b[0;34m\u001b[0m\u001b[0m\n\u001b[1;32m      2\u001b[0m     \u001b[0;32mif\u001b[0m \u001b[0mlocs\u001b[0m\u001b[0;34m[\u001b[0m\u001b[0;34m'name'\u001b[0m\u001b[0;34m]\u001b[0m\u001b[0;34m.\u001b[0m\u001b[0mstr\u001b[0m\u001b[0;34m.\u001b[0m\u001b[0mcontains\u001b[0m\u001b[0;34m(\u001b[0m\u001b[0mloc\u001b[0m\u001b[0;34m.\u001b[0m\u001b[0mget_text\u001b[0m\u001b[0;34m(\u001b[0m\u001b[0;34m)\u001b[0m\u001b[0;34m)\u001b[0m\u001b[0;34m.\u001b[0m\u001b[0many\u001b[0m\u001b[0;34m(\u001b[0m\u001b[0;34m)\u001b[0m\u001b[0;34m:\u001b[0m\u001b[0;34m\u001b[0m\u001b[0;34m\u001b[0m\u001b[0m\n\u001b[0;32m----> 3\u001b[0;31m         \u001b[0;32mif\u001b[0m \u001b[0mlocs\u001b[0m\u001b[0;34m.\u001b[0m\u001b[0mloc\u001b[0m\u001b[0;34m[\u001b[0m\u001b[0mlocs\u001b[0m\u001b[0;34m[\u001b[0m\u001b[0;34m'name'\u001b[0m\u001b[0;34m]\u001b[0m \u001b[0;34m==\u001b[0m \u001b[0mloc\u001b[0m\u001b[0;34m]\u001b[0m\u001b[0;34m[\u001b[0m\u001b[0;34m\"name_count\"\u001b[0m\u001b[0;34m]\u001b[0m \u001b[0;34m>\u001b[0m \u001b[0;36m1\u001b[0m\u001b[0;34m:\u001b[0m\u001b[0;34m\u001b[0m\u001b[0;34m\u001b[0m\u001b[0m\n\u001b[0m\u001b[1;32m      4\u001b[0m             \u001b[0mprint\u001b[0m \u001b[0;34m(\u001b[0m\u001b[0;34m\"multiple_ids: \"\u001b[0m\u001b[0;34m,\u001b[0m \u001b[0mloc\u001b[0m\u001b[0;34m.\u001b[0m\u001b[0mget_text\u001b[0m\u001b[0;34m(\u001b[0m\u001b[0;34m)\u001b[0m\u001b[0;34m)\u001b[0m\u001b[0;34m\u001b[0m\u001b[0;34m\u001b[0m\u001b[0m\n\u001b[1;32m      5\u001b[0m         \u001b[0;32melse\u001b[0m\u001b[0;34m:\u001b[0m\u001b[0;34m\u001b[0m\u001b[0;34m\u001b[0m\u001b[0m\n",
      "\u001b[0;32m~/opt/anaconda3/lib/python3.7/site-packages/pandas/core/generic.py\u001b[0m in \u001b[0;36m__nonzero__\u001b[0;34m(self)\u001b[0m\n\u001b[1;32m   1553\u001b[0m             \u001b[0;34m\"The truth value of a {0} is ambiguous. \"\u001b[0m\u001b[0;34m\u001b[0m\u001b[0;34m\u001b[0m\u001b[0m\n\u001b[1;32m   1554\u001b[0m             \"Use a.empty, a.bool(), a.item(), a.any() or a.all().\".format(\n\u001b[0;32m-> 1555\u001b[0;31m                 \u001b[0mself\u001b[0m\u001b[0;34m.\u001b[0m\u001b[0m__class__\u001b[0m\u001b[0;34m.\u001b[0m\u001b[0m__name__\u001b[0m\u001b[0;34m\u001b[0m\u001b[0;34m\u001b[0m\u001b[0m\n\u001b[0m\u001b[1;32m   1556\u001b[0m             )\n\u001b[1;32m   1557\u001b[0m         )\n",
      "\u001b[0;31mValueError\u001b[0m: The truth value of a Series is ambiguous. Use a.empty, a.bool(), a.item(), a.any() or a.all()."
     ]
    }
   ],
   "source": [
    "for loc in tree.find_all(\"location\"):\n",
    "    if locs['name'].str.contains(loc.get_text()).any():\n",
    "        if locs.loc[locs['name'] == loc][\"name_count\"] > 1:\n",
    "            print (\"multiple_ids: \", loc.get_text())\n",
    "        else:\n",
    "            print (\"unique: \", loc.get_text())\n",
    "    else:\n",
    "        print (\"no: \", loc.get_text())"
   ]
  },
  {
   "cell_type": "code",
   "execution_count": 157,
   "metadata": {},
   "outputs": [
    {
     "data": {
      "text/plain": [
       "101    2\n",
       "830    2\n",
       "Name: name_count, dtype: int64"
      ]
     },
     "execution_count": 157,
     "metadata": {},
     "output_type": "execute_result"
    }
   ],
   "source": [
    "locs.loc[locs['name'] == \"بلجوان\"][\"name_count\"]"
   ]
  },
  {
   "cell_type": "markdown",
   "metadata": {},
   "source": [
    "## Testing"
   ]
  },
  {
   "cell_type": "code",
   "execution_count": 90,
   "metadata": {},
   "outputs": [],
   "source": [
    "tree = BeautifulSoup(combo_xml_all[\"ser898\"])"
   ]
  },
  {
   "cell_type": "code",
   "execution_count": 91,
   "metadata": {},
   "outputs": [],
   "source": [
    "first = tree.find_all('location')[0]"
   ]
  },
  {
   "cell_type": "code",
   "execution_count": 86,
   "metadata": {},
   "outputs": [
    {
     "data": {
      "text/plain": [
       "True"
      ]
     },
     "execution_count": 86,
     "metadata": {},
     "output_type": "execute_result"
    }
   ],
   "source": [
    "'locid' in first.attrs"
   ]
  },
  {
   "cell_type": "code",
   "execution_count": 87,
   "metadata": {},
   "outputs": [],
   "source": [
    "first.attrs['locid'] = 5"
   ]
  },
  {
   "cell_type": "code",
   "execution_count": null,
   "metadata": {},
   "outputs": [],
   "source": [
    "first"
   ]
  },
  {
   "cell_type": "code",
   "execution_count": null,
   "metadata": {},
   "outputs": [],
   "source": [
    "hits = locs[locs['name']==first.text]"
   ]
  },
  {
   "cell_type": "code",
   "execution_count": null,
   "metadata": {},
   "outputs": [],
   "source": [
    "len(hits)"
   ]
  },
  {
   "cell_type": "code",
   "execution_count": 88,
   "metadata": {},
   "outputs": [
    {
     "data": {
      "text/plain": [
       "[]"
      ]
     },
     "execution_count": 88,
     "metadata": {},
     "output_type": "execute_result"
    }
   ],
   "source": [
    "tree.find_all('location')"
   ]
  },
  {
   "cell_type": "code",
   "execution_count": null,
   "metadata": {},
   "outputs": [],
   "source": [
    "tree.div"
   ]
  },
  {
   "cell_type": "code",
   "execution_count": 92,
   "metadata": {},
   "outputs": [
    {
     "name": "stdout",
     "output_type": "stream",
     "text": [
      "<?xml-model href=\"../../../../../Projects/xml_development_eurasia/schemas/persian_documents_schema_basic.rnc\" type=\"application/relax-ng-compact-syntax\"?>\n",
      "<html>\n",
      " <body>\n",
      "  <document serial=\"898\">\n",
      "   <div type=\"heading\">\n",
      "    <!-- inscriptio -->\n",
      "    <ts type=\"inscriptio\">\n",
      "    </ts>\n",
      "    جناب حضرت وزارت پناهی امیدگاهی و صاحب دولتم سلمه الله تعالی\n",
      "    <lb>\n",
      "    </lb>\n",
      "   </div>\n",
      "   <div type=\"section\">\n",
      "    <!-- left column -->\n",
      "    <ts type=\"apprecatio\">\n",
      "    </ts>\n",
      "    عرضه داشت اینغلام\n",
      "    <honorific type=\"inferior\">\n",
      "     رضاجوی\n",
      "    </honorific>\n",
      "    <honorific type=\"inferior\">\n",
      "     جانسپار\n",
      "    </honorific>\n",
      "    <flag type=\"meaning\">\n",
      "     خرمان\n",
      "    </flag>\n",
      "    کثیر الاخلاص\n",
      "    <lb>\n",
      "    </lb>\n",
      "    وافر الاعتقاد و خبر خواه عقیدت نهاد قلیل الخدمت کثیر الامید بجناب\n",
      "    <lb>\n",
      "    </lb>\n",
      "    ذاة خجسته صفات زیب بخش امارت و زینت افزای بساط\n",
      "    <lb>\n",
      "    </lb>\n",
      "    عزت و حرمت ترازندۀ لوای معدلت و نیک نامی فرازنده اعلام\n",
      "    <lb>\n",
      "    </lb>\n",
      "    <diplo type=\"orthography\">\n",
      "     حشمت\n",
      "    </diplo>\n",
      "    و انتظام ناظم مناظم و امور دین و دولت بساط\n",
      "    <lb>\n",
      "    </lb>\n",
      "    شهریاری حافظ مسند عزت و نامداری مقرب حضرت خاقان\n",
      "    <!-- Stan: مقرب حضرت used quite frequently in Safavid period; it was a class of official. -->\n",
      "    <lb>\n",
      "    </lb>\n",
      "    و سلطنت مرفوع\n",
      "    <diplo indended=\"ضمیر\" type=\"orthography\">\n",
      "     طمیر\n",
      "    </diplo>\n",
      "    منیر خورشید نظیر مملکت\n",
      "\t\tپناها بصد هزار\n",
      "    <!-- Need to decide how to deal with mistakes in original i.e. above supposed to be ضمیر -->\n",
      "    <lb>\n",
      "    </lb>\n",
      "    اداب و شکسته گی چنان رسانیده میشود که الحمد الله احوالات\n",
      "    <lb>\n",
      "    </lb>\n",
      "    اینغلام رضاجوی بفضل و کرم الهی بهمین دولت ابد مدة\n",
      "    <lb>\n",
      "    </lb>\n",
      "    ظفر نمون بدرجه خوشی در گذر بوده سلامی جنابمولایم را از درگاه ---\n",
      "    <!-- Right column (diagonal) -->\n",
      "    <lb>\n",
      "    </lb>\n",
      "   </div>\n",
      "   <div type=\"section\">\n",
      "    <flag type=\"meaning\">\n",
      "     ایزید\n",
      "    </flag>\n",
      "    مراد بخش خواسته\n",
      "    <lb>\n",
      "    </lb>\n",
      "    دعا مینمایم\n",
      "    <ts type=\"narratio\">\n",
      "    </ts>\n",
      "    بعده اینکه امیدگاها چنانچه\n",
      "    <!-- Beginning of narratio -->\n",
      "    <lb>\n",
      "    </lb>\n",
      "    خطیکه همراه\n",
      "    <individual>\n",
      "     عبد الجبار\n",
      "    </individual>\n",
      "    غلامشان فرستاده بودید در وقت\n",
      "    <lb>\n",
      "    </lb>\n",
      "    نگرانی امده رسید سلامتی را دانسته جهان جهان خورسندی\n",
      "    <flag type=\"unclear\">\n",
      "     بسلامتها به وفرخمیدی\n",
      "    </flag>\n",
      "    بی اندازه\n",
      "    <lb>\n",
      "    </lb>\n",
      "    حاصل گردید از روی مهربانی جنابمولایم خط حاکم\n",
      "    <location>\n",
      "     بلجوان\n",
      "    </location>\n",
      "    را همراه یک ادم خودم فرستاده در جواب ان\n",
      "    <lb>\n",
      "    </lb>\n",
      "    خط گرفته بدست\n",
      "    <individual>\n",
      "     عبد الجبار بیک\n",
      "    </individual>\n",
      "    غلامشان بسپاریدم امید ستکه خدمت جناب ان برده سپار و عرض دیگر اینکه امیدگاها\n",
      "    <!-- New topic -->\n",
      "    <lb>\n",
      "    </lb>\n",
      "    ثانی دهم\n",
      "    <date>\n",
      "     شهر محرم یوم سه شنبه\n",
      "    </date>\n",
      "    <individual>\n",
      "     مقیم خواجه\n",
      "     <role id=\"124\">\n",
      "      قراولبیگی\n",
      "     </role>\n",
      "    </individual>\n",
      "    و\n",
      "    <individual>\n",
      "     عبد الرسول\n",
      "     <role id=\"191\">\n",
      "      میرزا باشی\n",
      "     </role>\n",
      "    </individual>\n",
      "    غلامشان امده در خوش خوانه اینغلام رضاجوی فرامده\n",
      "    <flag type=\"unclear\">\n",
      "     نمازی\n",
      "    </flag>\n",
      "    کرده\n",
      "    <lb>\n",
      "    </lb>\n",
      "    مقیم خواجه غلامشان بر امده در موضع فیض اباد رفته ناتیاب شده بوده است از املاکدار فیض اباد\n",
      "\t\tبمیر\n",
      "    <individual>\n",
      "     <role id=\"42\">\n",
      "      قشبیگی\n",
      "     </role>\n",
      "    </individual>\n",
      "    خط امد گی محرم امده گی ناتاب شده\n",
      "    <lb>\n",
      "    </lb>\n",
      "    از زبان مانده است گفته\n",
      "    <individual>\n",
      "     میر\n",
      "     <role id=\"42\">\n",
      "      قشبیگی\n",
      "     </role>\n",
      "    </individual>\n",
      "    این غلامشان را گرفته برده خط املاکدار را نشان داده مهربانی نمودند که زود رفته خبر گیرید اگر\n",
      "\t\tمرده باشد خط را\n",
      "    <lb>\n",
      "    </lb>\n",
      "    خود شما گرفته برید گفته مهربانی نمودند نماز شام بر امده رفته در موضع\n",
      "    <location>\n",
      "     فیض اباد\n",
      "    </location>\n",
      "    رسیدم که\n",
      "    <individual>\n",
      "     مقیم خواجه\n",
      "    </individual>\n",
      "    بغلامشان\n",
      "    <flag type=\"unclear\">\n",
      "     اسیر مه دوانده\n",
      "    </flag>\n",
      "    کمتر خون کم کرده باز\n",
      "    <lb>\n",
      "    </lb>\n",
      "    صحت سلامت پگاه پنجشنبه برامده رفته بوده است از اینجهت معلوم مولایم شود گفته عرض بنده گی\n",
      "\t\tنمودم و یکمهربانی جنابمولایم شده بود که\n",
      "    <lb>\n",
      "    </lb>\n",
      "    یکسال باز از دخل خرج زمان هیچ معلوم منمیکنید گفته بودید منهم در ارزوی بهمین بودم که یکسال\n",
      "\t\tباز در حصار از مهربانی جنابعالی و از\n",
      "    <lb>\n",
      "    </lb>\n",
      "    و از شرافت جنابصاحبا دولتنستانم ذکواتچی هستیم هیچ دخلی نباشد\n",
      "    <flag type=\"unclear\">\n",
      "     چتریقه\n",
      "    </flag>\n",
      "    معلوم میکرده باشم و بچه طریقه صاحب دولتم را\n",
      "    <flag>\n",
      "     روزی\n",
      "    </flag>\n",
      "    <lb>\n",
      "    </lb>\n",
      "    <!-- What to do about misspellings like چتریقه -->\n",
      "    میکرده باشم گفته شب روز در انیدهشه بودم\n",
      "\t\tاز این مهربانی مولایم سرم بگردون\n",
      "    <flag>\n",
      "     نیله گون\n",
      "    </flag>\n",
      "    رسیده از روی نادانی و نا عامیلی ام\n",
      "    <lb>\n",
      "    </lb>\n",
      "    خبریکه دخل و خرج شده بود همراه\n",
      "    <individual>\n",
      "     عبد الطبار بیک\n",
      "    </individual>\n",
      "    غلامشان بخدمت ذی سعادت جنابمولایم داده فرستادهم هر چه مرحمت مولایم\n",
      "    <lb>\n",
      "    </lb>\n",
      "    شود غلام هستم دیگر اطراف و جوانب اینولا علما فضلا فقیر فقرا همه اسایش بوده دعا گوی دیگر\n",
      "    <flag>\n",
      "     پیشه\n",
      "    </flag>\n",
      "    و اندیشه\n",
      "    <flag>\n",
      "     ندارند\n",
      "    </flag>\n",
      "    <lb>\n",
      "    </lb>\n",
      "    خصوص این غلام رضاجوی شب و روز دعا دولت جنابعالی و مولازاده گانم را از درگاهی\n",
      "    <flag>\n",
      "     شهر\n",
      "    </flag>\n",
      "    خواسته دعا مینمایم که\n",
      "    <lb>\n",
      "    </lb>\n",
      "    <flag>\n",
      "     رهرسایه\n",
      "    </flag>\n",
      "    دولت جناب ان را از\n",
      "    <flag>\n",
      "     سرما\n",
      "    </flag>\n",
      "    غریب دعاگوی کم نکنند\n",
      "    <flag>\n",
      "     انها\n",
      "    </flag>\n",
      "    امین باقی ایام بکام ا\n",
      "    <flag>\n",
      "     لایوم قام\n",
      "    </flag>\n",
      "    <lb>\n",
      "    </lb>\n",
      "    باقی السلام علیکم الفقر الفقر حضرت واجب\n",
      "    <flag>\n",
      "     تناکی\n",
      "    </flag>\n",
      "    الفقر الفقر\n",
      "    <lb>\n",
      "    </lb>\n",
      "    الفقر الفقر\n",
      "    <lb>\n",
      "    </lb>\n",
      "   </div>\n",
      "  </document>\n",
      " </body>\n",
      "</html>\n"
     ]
    }
   ],
   "source": [
    "print(tree.prettify())"
   ]
  },
  {
   "cell_type": "code",
   "execution_count": null,
   "metadata": {},
   "outputs": [],
   "source": [
    "tag = tree.div"
   ]
  },
  {
   "cell_type": "code",
   "execution_count": null,
   "metadata": {},
   "outputs": [],
   "source": [
    "type(tag.name)"
   ]
  },
  {
   "cell_type": "code",
   "execution_count": null,
   "metadata": {},
   "outputs": [],
   "source": [
    "type(tag.attrs)"
   ]
  },
  {
   "cell_type": "code",
   "execution_count": null,
   "metadata": {},
   "outputs": [],
   "source": [
    "tree.div"
   ]
  },
  {
   "cell_type": "code",
   "execution_count": null,
   "metadata": {},
   "outputs": [],
   "source": [
    "type(tree.div)"
   ]
  },
  {
   "cell_type": "code",
   "execution_count": null,
   "metadata": {},
   "outputs": [],
   "source": [
    "tree.div.contents"
   ]
  },
  {
   "cell_type": "code",
   "execution_count": null,
   "metadata": {},
   "outputs": [],
   "source": [
    "for string in tree.stripped_strings:\n",
    "    print(repr(string))"
   ]
  },
  {
   "cell_type": "code",
   "execution_count": null,
   "metadata": {},
   "outputs": [],
   "source": [
    "type(tree.find_all(\"div\"))"
   ]
  },
  {
   "cell_type": "code",
   "execution_count": 123,
   "metadata": {},
   "outputs": [
    {
     "ename": "AttributeError",
     "evalue": "ResultSet object has no attribute 'get_text'. You're probably treating a list of items like a single item. Did you call find_all() when you meant to call find()?",
     "output_type": "error",
     "traceback": [
      "\u001b[0;31m---------------------------------------------------------------------------\u001b[0m",
      "\u001b[0;31mAttributeError\u001b[0m                            Traceback (most recent call last)",
      "\u001b[0;32m<ipython-input-123-52ebfa90a8c4>\u001b[0m in \u001b[0;36m<module>\u001b[0;34m\u001b[0m\n\u001b[0;32m----> 1\u001b[0;31m \u001b[0mtree\u001b[0m\u001b[0;34m.\u001b[0m\u001b[0mfind_all\u001b[0m\u001b[0;34m(\u001b[0m\u001b[0;34m\"location\"\u001b[0m\u001b[0;34m)\u001b[0m\u001b[0;34m.\u001b[0m\u001b[0mget_text\u001b[0m\u001b[0;34m(\u001b[0m\u001b[0;34m)\u001b[0m\u001b[0;34m\u001b[0m\u001b[0;34m\u001b[0m\u001b[0m\n\u001b[0m",
      "\u001b[0;32m~/opt/anaconda3/lib/python3.7/site-packages/bs4/element.py\u001b[0m in \u001b[0;36m__getattr__\u001b[0;34m(self, key)\u001b[0m\n\u001b[1;32m   1576\u001b[0m     \u001b[0;32mdef\u001b[0m \u001b[0m__getattr__\u001b[0m\u001b[0;34m(\u001b[0m\u001b[0mself\u001b[0m\u001b[0;34m,\u001b[0m \u001b[0mkey\u001b[0m\u001b[0;34m)\u001b[0m\u001b[0;34m:\u001b[0m\u001b[0;34m\u001b[0m\u001b[0;34m\u001b[0m\u001b[0m\n\u001b[1;32m   1577\u001b[0m         raise AttributeError(\n\u001b[0;32m-> 1578\u001b[0;31m             \u001b[0;34m\"ResultSet object has no attribute '%s'. You're probably treating a list of items like a single item. Did you call find_all() when you meant to call find()?\"\u001b[0m \u001b[0;34m%\u001b[0m \u001b[0mkey\u001b[0m\u001b[0;34m\u001b[0m\u001b[0;34m\u001b[0m\u001b[0m\n\u001b[0m\u001b[1;32m   1579\u001b[0m         )\n",
      "\u001b[0;31mAttributeError\u001b[0m: ResultSet object has no attribute 'get_text'. You're probably treating a list of items like a single item. Did you call find_all() when you meant to call find()?"
     ]
    }
   ],
   "source": [
    "tree.find_all(\"location\").get_text()"
   ]
  }
 ],
 "metadata": {
  "kernelspec": {
   "display_name": "Python 3",
   "language": "python",
   "name": "python3"
  },
  "language_info": {
   "codemirror_mode": {
    "name": "ipython",
    "version": 3
   },
   "file_extension": ".py",
   "mimetype": "text/x-python",
   "name": "python",
   "nbconvert_exporter": "python",
   "pygments_lexer": "ipython3",
   "version": "3.7.4"
  }
 },
 "nbformat": 4,
 "nbformat_minor": 4
}
